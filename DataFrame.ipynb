{
 "cells": [
  {
   "cell_type": "code",
   "execution_count": 5,
   "id": "c0730c17-141a-4a73-88da-065e61c23103",
   "metadata": {},
   "outputs": [],
   "source": [
    "import pandas as pd\n",
    "import numpy as np"
   ]
  },
  {
   "cell_type": "code",
   "execution_count": 7,
   "id": "e03ecb02-f35c-4741-a731-14601a9e7cf9",
   "metadata": {},
   "outputs": [],
   "source": [
    "df_Data = [['Jayden Daniels','Commanders','QB','2024','17','355.82'],['Derrick Henry','Ravens','RB','2016','17','336.4'],['Jameson Williams','Lions','WR','2022','15','212.2'],['Kyle Pitts','Falcons','TE','2021','17','131.2'],['Tony Pollard','Titans','RB','2019','16','200.7'],['Terry Mclaurin','Commanders','WR','2019','17','267.8'],['Jaxon Smith-Njigba','Seahawks','WR','2023','17','253.0'],['Justin Tucker','Ravens','K','2012','17','135.0']]\n",
    "df_Columns = ['Name','Current_Team','Position','Year_Drafted','Games_Played','Total_Points']"
   ]
  },
  {
   "cell_type": "code",
   "execution_count": 9,
   "id": "e1788c67-a5d0-4dff-870b-b5fb9f25d7e9",
   "metadata": {},
   "outputs": [
    {
     "name": "stdout",
     "output_type": "stream",
     "text": [
      "                 Name Current_Team Position Year_Drafted Games_Played  \\\n",
      "0      Jayden Daniels   Commanders       QB         2024           17   \n",
      "1       Derrick Henry       Ravens       RB         2016           17   \n",
      "2    Jameson Williams        Lions       WR         2022           15   \n",
      "3          Kyle Pitts      Falcons       TE         2021           17   \n",
      "4        Tony Pollard       Titans       RB         2019           16   \n",
      "5      Terry Mclaurin   Commanders       WR         2019           17   \n",
      "6  Jaxon Smith-Njigba     Seahawks       WR         2023           17   \n",
      "7       Justin Tucker       Ravens        K         2012           17   \n",
      "\n",
      "  Total_Points  \n",
      "0       355.82  \n",
      "1        336.4  \n",
      "2        212.2  \n",
      "3        131.2  \n",
      "4        200.7  \n",
      "5        267.8  \n",
      "6        253.0  \n",
      "7        135.0  \n"
     ]
    }
   ],
   "source": [
    "Fantasy_df = pd.DataFrame(\n",
    "    data = df_Data,\n",
    "    columns = df_Columns)\n",
    "print(Fantasy_df)"
   ]
  },
  {
   "cell_type": "code",
   "execution_count": 11,
   "id": "0d935877-ede3-456b-879d-63ede4775f3e",
   "metadata": {},
   "outputs": [
    {
     "data": {
      "text/html": [
       "<div>\n",
       "<style scoped>\n",
       "    .dataframe tbody tr th:only-of-type {\n",
       "        vertical-align: middle;\n",
       "    }\n",
       "\n",
       "    .dataframe tbody tr th {\n",
       "        vertical-align: top;\n",
       "    }\n",
       "\n",
       "    .dataframe thead th {\n",
       "        text-align: right;\n",
       "    }\n",
       "</style>\n",
       "<table border=\"1\" class=\"dataframe\">\n",
       "  <thead>\n",
       "    <tr style=\"text-align: right;\">\n",
       "      <th></th>\n",
       "      <th>Name</th>\n",
       "      <th>Current_Team</th>\n",
       "      <th>Position</th>\n",
       "      <th>Year_Drafted</th>\n",
       "      <th>Games_Played</th>\n",
       "      <th>Total_Points</th>\n",
       "    </tr>\n",
       "  </thead>\n",
       "  <tbody>\n",
       "    <tr>\n",
       "      <th>0</th>\n",
       "      <td>Jayden Daniels</td>\n",
       "      <td>Commanders</td>\n",
       "      <td>QB</td>\n",
       "      <td>2024</td>\n",
       "      <td>17</td>\n",
       "      <td>355.82</td>\n",
       "    </tr>\n",
       "    <tr>\n",
       "      <th>1</th>\n",
       "      <td>Derrick Henry</td>\n",
       "      <td>Ravens</td>\n",
       "      <td>RB</td>\n",
       "      <td>2016</td>\n",
       "      <td>17</td>\n",
       "      <td>336.4</td>\n",
       "    </tr>\n",
       "    <tr>\n",
       "      <th>2</th>\n",
       "      <td>Jameson Williams</td>\n",
       "      <td>Lions</td>\n",
       "      <td>WR</td>\n",
       "      <td>2022</td>\n",
       "      <td>15</td>\n",
       "      <td>212.2</td>\n",
       "    </tr>\n",
       "  </tbody>\n",
       "</table>\n",
       "</div>"
      ],
      "text/plain": [
       "               Name Current_Team Position Year_Drafted Games_Played  \\\n",
       "0    Jayden Daniels   Commanders       QB         2024           17   \n",
       "1     Derrick Henry       Ravens       RB         2016           17   \n",
       "2  Jameson Williams        Lions       WR         2022           15   \n",
       "\n",
       "  Total_Points  \n",
       "0       355.82  \n",
       "1        336.4  \n",
       "2        212.2  "
      ]
     },
     "execution_count": 11,
     "metadata": {},
     "output_type": "execute_result"
    }
   ],
   "source": [
    "Fantasy_df.head(3)"
   ]
  },
  {
   "cell_type": "code",
   "execution_count": 13,
   "id": "a6d3c6c1-35d8-4504-adbd-ee8c5ff91287",
   "metadata": {},
   "outputs": [
    {
     "data": {
      "text/plain": [
       "(8, 6)"
      ]
     },
     "execution_count": 13,
     "metadata": {},
     "output_type": "execute_result"
    }
   ],
   "source": [
    "Fantasy_df.shape"
   ]
  },
  {
   "cell_type": "code",
   "execution_count": 15,
   "id": "ed092a81-8b7d-4dfd-89a7-1cc7d6a00993",
   "metadata": {},
   "outputs": [
    {
     "data": {
      "text/plain": [
       "Index(['Name', 'Current_Team', 'Position', 'Year_Drafted', 'Games_Played',\n",
       "       'Total_Points'],\n",
       "      dtype='object')"
      ]
     },
     "execution_count": 15,
     "metadata": {},
     "output_type": "execute_result"
    }
   ],
   "source": [
    "Fantasy_df.columns"
   ]
  },
  {
   "cell_type": "code",
   "execution_count": 17,
   "id": "999195ff-4679-449c-a9c8-4d92db2d936e",
   "metadata": {},
   "outputs": [
    {
     "name": "stdout",
     "output_type": "stream",
     "text": [
      "                 Name Current_Team Position Year_Drafted Games_Played  \\\n",
      "0      JAYDEN DANIELS   Commanders       QB         2024           17   \n",
      "1       DERRICK HENRY       Ravens       RB         2016           17   \n",
      "2    JAMESON WILLIAMS        Lions       WR         2022           15   \n",
      "3          KYLE PITTS      Falcons       TE         2021           17   \n",
      "4        TONY POLLARD       Titans       RB         2019           16   \n",
      "5      TERRY MCLAURIN   Commanders       WR         2019           17   \n",
      "6  JAXON SMITH-NJIGBA     Seahawks       WR         2023           17   \n",
      "7       JUSTIN TUCKER       Ravens        K         2012           17   \n",
      "\n",
      "  Total_Points  \n",
      "0       355.82  \n",
      "1        336.4  \n",
      "2        212.2  \n",
      "3        131.2  \n",
      "4        200.7  \n",
      "5        267.8  \n",
      "6        253.0  \n",
      "7        135.0  \n"
     ]
    }
   ],
   "source": [
    "Fantasy_df['Name'] = Fantasy_df['Name'].str.upper()\n",
    "print(Fantasy_df)"
   ]
  },
  {
   "cell_type": "code",
   "execution_count": 19,
   "id": "ebcc5529-36bd-441b-b8db-f54175aba232",
   "metadata": {},
   "outputs": [
    {
     "name": "stdout",
     "output_type": "stream",
     "text": [
      "                 name current_team position year_drafted games_played  \\\n",
      "0      JAYDEN DANIELS   Commanders       QB         2024           17   \n",
      "1       DERRICK HENRY       Ravens       RB         2016           17   \n",
      "2    JAMESON WILLIAMS        Lions       WR         2022           15   \n",
      "3          KYLE PITTS      Falcons       TE         2021           17   \n",
      "4        TONY POLLARD       Titans       RB         2019           16   \n",
      "5      TERRY MCLAURIN   Commanders       WR         2019           17   \n",
      "6  JAXON SMITH-NJIGBA     Seahawks       WR         2023           17   \n",
      "7       JUSTIN TUCKER       Ravens        K         2012           17   \n",
      "\n",
      "  total_points  \n",
      "0       355.82  \n",
      "1        336.4  \n",
      "2        212.2  \n",
      "3        131.2  \n",
      "4        200.7  \n",
      "5        267.8  \n",
      "6        253.0  \n",
      "7        135.0  \n"
     ]
    }
   ],
   "source": [
    "Fantasy_df.columns = Fantasy_df.columns.str.lower()\n",
    "print(Fantasy_df)"
   ]
  },
  {
   "cell_type": "code",
   "execution_count": 23,
   "id": "56059e3d-2a43-44f3-a171-a497a8a3689d",
   "metadata": {},
   "outputs": [
    {
     "data": {
      "text/html": [
       "<div>\n",
       "<style scoped>\n",
       "    .dataframe tbody tr th:only-of-type {\n",
       "        vertical-align: middle;\n",
       "    }\n",
       "\n",
       "    .dataframe tbody tr th {\n",
       "        vertical-align: top;\n",
       "    }\n",
       "\n",
       "    .dataframe thead th {\n",
       "        text-align: right;\n",
       "    }\n",
       "</style>\n",
       "<table border=\"1\" class=\"dataframe\">\n",
       "  <thead>\n",
       "    <tr style=\"text-align: right;\">\n",
       "      <th></th>\n",
       "      <th>name</th>\n",
       "      <th>current_team</th>\n",
       "      <th>position</th>\n",
       "      <th>year_drafted</th>\n",
       "      <th>games_played</th>\n",
       "      <th>total_points</th>\n",
       "    </tr>\n",
       "  </thead>\n",
       "  <tbody>\n",
       "  </tbody>\n",
       "</table>\n",
       "</div>"
      ],
      "text/plain": [
       "Empty DataFrame\n",
       "Columns: [name, current_team, position, year_drafted, games_played, total_points]\n",
       "Index: []"
      ]
     },
     "execution_count": 23,
     "metadata": {},
     "output_type": "execute_result"
    }
   ],
   "source": [
    "Fantasy_df.query('year_drafted == 2019')"
   ]
  },
  {
   "cell_type": "code",
   "execution_count": null,
   "id": "9cb83b66-0448-4bc5-b856-854faeeb4d72",
   "metadata": {},
   "outputs": [],
   "source": []
  }
 ],
 "metadata": {
  "kernelspec": {
   "display_name": "Python [conda env:base] *",
   "language": "python",
   "name": "conda-base-py"
  },
  "language_info": {
   "codemirror_mode": {
    "name": "ipython",
    "version": 3
   },
   "file_extension": ".py",
   "mimetype": "text/x-python",
   "name": "python",
   "nbconvert_exporter": "python",
   "pygments_lexer": "ipython3",
   "version": "3.12.7"
  }
 },
 "nbformat": 4,
 "nbformat_minor": 5
}
