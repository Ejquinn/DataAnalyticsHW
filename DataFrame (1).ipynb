{
 "cells": [
  {
   "cell_type": "code",
   "execution_count": 123,
   "id": "c0730c17-141a-4a73-88da-065e61c23103",
   "metadata": {},
   "outputs": [],
   "source": [
    "import pandas as pd\n",
    "import numpy as np"
   ]
  },
  {
   "cell_type": "code",
   "execution_count": 125,
   "id": "e03ecb02-f35c-4741-a731-14601a9e7cf9",
   "metadata": {},
   "outputs": [],
   "source": [
    "df_Data = [['Jayden Daniels','Commanders','QB','2024',17,355.82],['Derrick Henry','Ravens','RB','2016',17,336.4],['Jameson Williams','Lions','WR','2022',15,212.2],['Kyle Pitts','Falcons','TE','2021',17,131.2],['Tony Pollard','Titans','RB','2019',16,200.7],['Terry Mclaurin','Commanders','WR','2019',17,267.8],['Jaxon Smith-Njigba','Seahawks','WR','2023',17,253.0],['Justin Tucker','Ravens','K','2012',17,135.0]]\n",
    "df_Columns = ['Name','Current_Team','Position','Year_Drafted','Games_Played','Total_Points']"
   ]
  },
  {
   "cell_type": "code",
   "execution_count": 127,
   "id": "e1788c67-a5d0-4dff-870b-b5fb9f25d7e9",
   "metadata": {},
   "outputs": [
    {
     "name": "stdout",
     "output_type": "stream",
     "text": [
      "                 Name Current_Team Position Year_Drafted  Games_Played  \\\n",
      "0      Jayden Daniels   Commanders       QB         2024            17   \n",
      "1       Derrick Henry       Ravens       RB         2016            17   \n",
      "2    Jameson Williams        Lions       WR         2022            15   \n",
      "3          Kyle Pitts      Falcons       TE         2021            17   \n",
      "4        Tony Pollard       Titans       RB         2019            16   \n",
      "5      Terry Mclaurin   Commanders       WR         2019            17   \n",
      "6  Jaxon Smith-Njigba     Seahawks       WR         2023            17   \n",
      "7       Justin Tucker       Ravens        K         2012            17   \n",
      "\n",
      "   Total_Points  \n",
      "0        355.82  \n",
      "1        336.40  \n",
      "2        212.20  \n",
      "3        131.20  \n",
      "4        200.70  \n",
      "5        267.80  \n",
      "6        253.00  \n",
      "7        135.00  \n"
     ]
    }
   ],
   "source": [
    "Fantasy_df = pd.DataFrame(\n",
    "    data = df_Data,\n",
    "    columns = df_Columns)\n",
    "print(Fantasy_df)"
   ]
  },
  {
   "cell_type": "code",
   "execution_count": 129,
   "id": "916c3755-36bf-4f78-9131-318b3465071a",
   "metadata": {},
   "outputs": [
    {
     "data": {
      "text/plain": [
       "Name             object\n",
       "Current_Team     object\n",
       "Position         object\n",
       "Year_Drafted     object\n",
       "Games_Played      int64\n",
       "Total_Points    float64\n",
       "dtype: object"
      ]
     },
     "execution_count": 129,
     "metadata": {},
     "output_type": "execute_result"
    }
   ],
   "source": [
    "Fantasy_df.dtypes"
   ]
  },
  {
   "cell_type": "code",
   "execution_count": 131,
   "id": "0d935877-ede3-456b-879d-63ede4775f3e",
   "metadata": {},
   "outputs": [
    {
     "data": {
      "text/html": [
       "<div>\n",
       "<style scoped>\n",
       "    .dataframe tbody tr th:only-of-type {\n",
       "        vertical-align: middle;\n",
       "    }\n",
       "\n",
       "    .dataframe tbody tr th {\n",
       "        vertical-align: top;\n",
       "    }\n",
       "\n",
       "    .dataframe thead th {\n",
       "        text-align: right;\n",
       "    }\n",
       "</style>\n",
       "<table border=\"1\" class=\"dataframe\">\n",
       "  <thead>\n",
       "    <tr style=\"text-align: right;\">\n",
       "      <th></th>\n",
       "      <th>Name</th>\n",
       "      <th>Current_Team</th>\n",
       "      <th>Position</th>\n",
       "      <th>Year_Drafted</th>\n",
       "      <th>Games_Played</th>\n",
       "      <th>Total_Points</th>\n",
       "    </tr>\n",
       "  </thead>\n",
       "  <tbody>\n",
       "    <tr>\n",
       "      <th>0</th>\n",
       "      <td>Jayden Daniels</td>\n",
       "      <td>Commanders</td>\n",
       "      <td>QB</td>\n",
       "      <td>2024</td>\n",
       "      <td>17</td>\n",
       "      <td>355.82</td>\n",
       "    </tr>\n",
       "    <tr>\n",
       "      <th>1</th>\n",
       "      <td>Derrick Henry</td>\n",
       "      <td>Ravens</td>\n",
       "      <td>RB</td>\n",
       "      <td>2016</td>\n",
       "      <td>17</td>\n",
       "      <td>336.40</td>\n",
       "    </tr>\n",
       "    <tr>\n",
       "      <th>2</th>\n",
       "      <td>Jameson Williams</td>\n",
       "      <td>Lions</td>\n",
       "      <td>WR</td>\n",
       "      <td>2022</td>\n",
       "      <td>15</td>\n",
       "      <td>212.20</td>\n",
       "    </tr>\n",
       "  </tbody>\n",
       "</table>\n",
       "</div>"
      ],
      "text/plain": [
       "               Name Current_Team Position Year_Drafted  Games_Played  \\\n",
       "0    Jayden Daniels   Commanders       QB         2024            17   \n",
       "1     Derrick Henry       Ravens       RB         2016            17   \n",
       "2  Jameson Williams        Lions       WR         2022            15   \n",
       "\n",
       "   Total_Points  \n",
       "0        355.82  \n",
       "1        336.40  \n",
       "2        212.20  "
      ]
     },
     "execution_count": 131,
     "metadata": {},
     "output_type": "execute_result"
    }
   ],
   "source": [
    "Fantasy_df.head(3)"
   ]
  },
  {
   "cell_type": "code",
   "execution_count": 133,
   "id": "a6d3c6c1-35d8-4504-adbd-ee8c5ff91287",
   "metadata": {},
   "outputs": [
    {
     "data": {
      "text/plain": [
       "(8, 6)"
      ]
     },
     "execution_count": 133,
     "metadata": {},
     "output_type": "execute_result"
    }
   ],
   "source": [
    "Fantasy_df.shape"
   ]
  },
  {
   "cell_type": "code",
   "execution_count": 135,
   "id": "ed092a81-8b7d-4dfd-89a7-1cc7d6a00993",
   "metadata": {},
   "outputs": [
    {
     "data": {
      "text/plain": [
       "Index(['Name', 'Current_Team', 'Position', 'Year_Drafted', 'Games_Played',\n",
       "       'Total_Points'],\n",
       "      dtype='object')"
      ]
     },
     "execution_count": 135,
     "metadata": {},
     "output_type": "execute_result"
    }
   ],
   "source": [
    "Fantasy_df.columns"
   ]
  },
  {
   "cell_type": "code",
   "execution_count": 137,
   "id": "999195ff-4679-449c-a9c8-4d92db2d936e",
   "metadata": {},
   "outputs": [
    {
     "name": "stdout",
     "output_type": "stream",
     "text": [
      "                 Name Current_Team Position Year_Drafted  Games_Played  \\\n",
      "0      JAYDEN DANIELS   Commanders       QB         2024            17   \n",
      "1       DERRICK HENRY       Ravens       RB         2016            17   \n",
      "2    JAMESON WILLIAMS        Lions       WR         2022            15   \n",
      "3          KYLE PITTS      Falcons       TE         2021            17   \n",
      "4        TONY POLLARD       Titans       RB         2019            16   \n",
      "5      TERRY MCLAURIN   Commanders       WR         2019            17   \n",
      "6  JAXON SMITH-NJIGBA     Seahawks       WR         2023            17   \n",
      "7       JUSTIN TUCKER       Ravens        K         2012            17   \n",
      "\n",
      "   Total_Points  \n",
      "0        355.82  \n",
      "1        336.40  \n",
      "2        212.20  \n",
      "3        131.20  \n",
      "4        200.70  \n",
      "5        267.80  \n",
      "6        253.00  \n",
      "7        135.00  \n"
     ]
    }
   ],
   "source": [
    "Fantasy_df['Name'] = Fantasy_df['Name'].str.upper()\n",
    "print(Fantasy_df)"
   ]
  },
  {
   "cell_type": "code",
   "execution_count": 139,
   "id": "ebcc5529-36bd-441b-b8db-f54175aba232",
   "metadata": {},
   "outputs": [
    {
     "name": "stdout",
     "output_type": "stream",
     "text": [
      "                 name current_team position year_drafted  games_played  \\\n",
      "0      JAYDEN DANIELS   Commanders       QB         2024            17   \n",
      "1       DERRICK HENRY       Ravens       RB         2016            17   \n",
      "2    JAMESON WILLIAMS        Lions       WR         2022            15   \n",
      "3          KYLE PITTS      Falcons       TE         2021            17   \n",
      "4        TONY POLLARD       Titans       RB         2019            16   \n",
      "5      TERRY MCLAURIN   Commanders       WR         2019            17   \n",
      "6  JAXON SMITH-NJIGBA     Seahawks       WR         2023            17   \n",
      "7       JUSTIN TUCKER       Ravens        K         2012            17   \n",
      "\n",
      "   total_points  \n",
      "0        355.82  \n",
      "1        336.40  \n",
      "2        212.20  \n",
      "3        131.20  \n",
      "4        200.70  \n",
      "5        267.80  \n",
      "6        253.00  \n",
      "7        135.00  \n"
     ]
    }
   ],
   "source": [
    "Fantasy_df.columns = Fantasy_df.columns.str.lower()\n",
    "print(Fantasy_df)"
   ]
  },
  {
   "cell_type": "code",
   "execution_count": 141,
   "id": "283157f6-6f1c-48c0-a487-cd93f13c1451",
   "metadata": {},
   "outputs": [
    {
     "data": {
      "text/html": [
       "<div>\n",
       "<style scoped>\n",
       "    .dataframe tbody tr th:only-of-type {\n",
       "        vertical-align: middle;\n",
       "    }\n",
       "\n",
       "    .dataframe tbody tr th {\n",
       "        vertical-align: top;\n",
       "    }\n",
       "\n",
       "    .dataframe thead th {\n",
       "        text-align: right;\n",
       "    }\n",
       "</style>\n",
       "<table border=\"1\" class=\"dataframe\">\n",
       "  <thead>\n",
       "    <tr style=\"text-align: right;\">\n",
       "      <th></th>\n",
       "      <th>name</th>\n",
       "      <th>current_team</th>\n",
       "      <th>position</th>\n",
       "      <th>year_drafted</th>\n",
       "      <th>games_played</th>\n",
       "      <th>total_points</th>\n",
       "    </tr>\n",
       "  </thead>\n",
       "  <tbody>\n",
       "    <tr>\n",
       "      <th>4</th>\n",
       "      <td>TONY POLLARD</td>\n",
       "      <td>Titans</td>\n",
       "      <td>RB</td>\n",
       "      <td>2019</td>\n",
       "      <td>16</td>\n",
       "      <td>200.7</td>\n",
       "    </tr>\n",
       "    <tr>\n",
       "      <th>5</th>\n",
       "      <td>TERRY MCLAURIN</td>\n",
       "      <td>Commanders</td>\n",
       "      <td>WR</td>\n",
       "      <td>2019</td>\n",
       "      <td>17</td>\n",
       "      <td>267.8</td>\n",
       "    </tr>\n",
       "  </tbody>\n",
       "</table>\n",
       "</div>"
      ],
      "text/plain": [
       "             name current_team position year_drafted  games_played  \\\n",
       "4    TONY POLLARD       Titans       RB         2019            16   \n",
       "5  TERRY MCLAURIN   Commanders       WR         2019            17   \n",
       "\n",
       "   total_points  \n",
       "4         200.7  \n",
       "5         267.8  "
      ]
     },
     "execution_count": 141,
     "metadata": {},
     "output_type": "execute_result"
    }
   ],
   "source": [
    "Fantasy_df[Fantasy_df['year_drafted'] == '2019']"
   ]
  },
  {
   "cell_type": "code",
   "execution_count": 143,
   "id": "9cb83b66-0448-4bc5-b856-854faeeb4d72",
   "metadata": {},
   "outputs": [
    {
     "name": "stdout",
     "output_type": "stream",
     "text": [
      "                 name  average_points\n",
      "0      JAYDEN DANIELS       20.930588\n",
      "1       DERRICK HENRY       19.788235\n",
      "2    JAMESON WILLIAMS       14.146667\n",
      "3          KYLE PITTS        7.717647\n",
      "4        TONY POLLARD       12.543750\n",
      "5      TERRY MCLAURIN       15.752941\n",
      "6  JAXON SMITH-NJIGBA       14.882353\n",
      "7       JUSTIN TUCKER        7.941176\n"
     ]
    }
   ],
   "source": [
    "Fantasy_df['average_points'] = Fantasy_df['total_points']/Fantasy_df['games_played']\n",
    "print(Fantasy_df[['name','average_points']])"
   ]
  },
  {
   "cell_type": "code",
   "execution_count": 145,
   "id": "0fada30e-8528-4218-93af-1d3c77a81627",
   "metadata": {},
   "outputs": [
    {
     "data": {
      "text/html": [
       "<div>\n",
       "<style scoped>\n",
       "    .dataframe tbody tr th:only-of-type {\n",
       "        vertical-align: middle;\n",
       "    }\n",
       "\n",
       "    .dataframe tbody tr th {\n",
       "        vertical-align: top;\n",
       "    }\n",
       "\n",
       "    .dataframe thead th {\n",
       "        text-align: right;\n",
       "    }\n",
       "</style>\n",
       "<table border=\"1\" class=\"dataframe\">\n",
       "  <thead>\n",
       "    <tr style=\"text-align: right;\">\n",
       "      <th></th>\n",
       "      <th>name</th>\n",
       "      <th>current_team</th>\n",
       "      <th>position</th>\n",
       "      <th>year_drafted</th>\n",
       "      <th>games_played</th>\n",
       "      <th>total_points</th>\n",
       "      <th>average_points</th>\n",
       "    </tr>\n",
       "  </thead>\n",
       "  <tbody>\n",
       "    <tr>\n",
       "      <th>0</th>\n",
       "      <td>JAYDEN DANIELS</td>\n",
       "      <td>Commanders</td>\n",
       "      <td>QB</td>\n",
       "      <td>2024</td>\n",
       "      <td>17</td>\n",
       "      <td>355.82</td>\n",
       "      <td>20.930588</td>\n",
       "    </tr>\n",
       "    <tr>\n",
       "      <th>1</th>\n",
       "      <td>DERRICK HENRY</td>\n",
       "      <td>Ravens</td>\n",
       "      <td>RB</td>\n",
       "      <td>2016</td>\n",
       "      <td>17</td>\n",
       "      <td>336.40</td>\n",
       "      <td>19.788235</td>\n",
       "    </tr>\n",
       "    <tr>\n",
       "      <th>5</th>\n",
       "      <td>TERRY MCLAURIN</td>\n",
       "      <td>Commanders</td>\n",
       "      <td>WR</td>\n",
       "      <td>2019</td>\n",
       "      <td>17</td>\n",
       "      <td>267.80</td>\n",
       "      <td>15.752941</td>\n",
       "    </tr>\n",
       "    <tr>\n",
       "      <th>6</th>\n",
       "      <td>JAXON SMITH-NJIGBA</td>\n",
       "      <td>Seahawks</td>\n",
       "      <td>WR</td>\n",
       "      <td>2023</td>\n",
       "      <td>17</td>\n",
       "      <td>253.00</td>\n",
       "      <td>14.882353</td>\n",
       "    </tr>\n",
       "    <tr>\n",
       "      <th>2</th>\n",
       "      <td>JAMESON WILLIAMS</td>\n",
       "      <td>Lions</td>\n",
       "      <td>WR</td>\n",
       "      <td>2022</td>\n",
       "      <td>15</td>\n",
       "      <td>212.20</td>\n",
       "      <td>14.146667</td>\n",
       "    </tr>\n",
       "    <tr>\n",
       "      <th>4</th>\n",
       "      <td>TONY POLLARD</td>\n",
       "      <td>Titans</td>\n",
       "      <td>RB</td>\n",
       "      <td>2019</td>\n",
       "      <td>16</td>\n",
       "      <td>200.70</td>\n",
       "      <td>12.543750</td>\n",
       "    </tr>\n",
       "    <tr>\n",
       "      <th>7</th>\n",
       "      <td>JUSTIN TUCKER</td>\n",
       "      <td>Ravens</td>\n",
       "      <td>K</td>\n",
       "      <td>2012</td>\n",
       "      <td>17</td>\n",
       "      <td>135.00</td>\n",
       "      <td>7.941176</td>\n",
       "    </tr>\n",
       "    <tr>\n",
       "      <th>3</th>\n",
       "      <td>KYLE PITTS</td>\n",
       "      <td>Falcons</td>\n",
       "      <td>TE</td>\n",
       "      <td>2021</td>\n",
       "      <td>17</td>\n",
       "      <td>131.20</td>\n",
       "      <td>7.717647</td>\n",
       "    </tr>\n",
       "  </tbody>\n",
       "</table>\n",
       "</div>"
      ],
      "text/plain": [
       "                 name current_team position year_drafted  games_played  \\\n",
       "0      JAYDEN DANIELS   Commanders       QB         2024            17   \n",
       "1       DERRICK HENRY       Ravens       RB         2016            17   \n",
       "5      TERRY MCLAURIN   Commanders       WR         2019            17   \n",
       "6  JAXON SMITH-NJIGBA     Seahawks       WR         2023            17   \n",
       "2    JAMESON WILLIAMS        Lions       WR         2022            15   \n",
       "4        TONY POLLARD       Titans       RB         2019            16   \n",
       "7       JUSTIN TUCKER       Ravens        K         2012            17   \n",
       "3          KYLE PITTS      Falcons       TE         2021            17   \n",
       "\n",
       "   total_points  average_points  \n",
       "0        355.82       20.930588  \n",
       "1        336.40       19.788235  \n",
       "5        267.80       15.752941  \n",
       "6        253.00       14.882353  \n",
       "2        212.20       14.146667  \n",
       "4        200.70       12.543750  \n",
       "7        135.00        7.941176  \n",
       "3        131.20        7.717647  "
      ]
     },
     "execution_count": 145,
     "metadata": {},
     "output_type": "execute_result"
    }
   ],
   "source": [
    "Fantasy_df.sort_values('total_points', ascending = False)"
   ]
  },
  {
   "cell_type": "code",
   "execution_count": 147,
   "id": "8a23b0d9-2342-4831-9243-eacae35adf59",
   "metadata": {},
   "outputs": [
    {
     "name": "stdout",
     "output_type": "stream",
     "text": [
      "5\n"
     ]
    }
   ],
   "source": [
    "print(Fantasy_df['position'].nunique())"
   ]
  },
  {
   "cell_type": "code",
   "execution_count": 149,
   "id": "ccf95b0b-fe78-4813-95b1-30e69e51285a",
   "metadata": {},
   "outputs": [
    {
     "name": "stdout",
     "output_type": "stream",
     "text": [
      "6\n"
     ]
    }
   ],
   "source": [
    "print(Fantasy_df['current_team'].nunique())"
   ]
  },
  {
   "cell_type": "code",
   "execution_count": 151,
   "id": "444137f3-f1df-4f8b-8294-5aa9abbe9c42",
   "metadata": {},
   "outputs": [
    {
     "name": "stdout",
     "output_type": "stream",
     "text": [
      "                 name  total_points\n",
      "0      JAYDEN DANIELS        355.82\n",
      "1       DERRICK HENRY        336.40\n",
      "2    JAMESON WILLIAMS        212.20\n",
      "3          KYLE PITTS        131.20\n",
      "4        TONY POLLARD        200.70\n",
      "5      TERRY MCLAURIN        267.80\n",
      "6  JAXON SMITH-NJIGBA        253.00\n",
      "7       JUSTIN TUCKER        135.00\n"
     ]
    }
   ],
   "source": [
    "print(Fantasy_df[['name','total_points']])"
   ]
  },
  {
   "cell_type": "code",
   "execution_count": 153,
   "id": "b7462e97-a62a-4712-a251-64c12ff2a998",
   "metadata": {},
   "outputs": [
    {
     "data": {
      "text/html": [
       "<div>\n",
       "<style scoped>\n",
       "    .dataframe tbody tr th:only-of-type {\n",
       "        vertical-align: middle;\n",
       "    }\n",
       "\n",
       "    .dataframe tbody tr th {\n",
       "        vertical-align: top;\n",
       "    }\n",
       "\n",
       "    .dataframe thead th {\n",
       "        text-align: right;\n",
       "    }\n",
       "</style>\n",
       "<table border=\"1\" class=\"dataframe\">\n",
       "  <thead>\n",
       "    <tr style=\"text-align: right;\">\n",
       "      <th></th>\n",
       "      <th>name</th>\n",
       "      <th>current_team</th>\n",
       "      <th>position</th>\n",
       "      <th>games_played</th>\n",
       "      <th>total_points</th>\n",
       "      <th>average_points</th>\n",
       "    </tr>\n",
       "  </thead>\n",
       "  <tbody>\n",
       "    <tr>\n",
       "      <th>0</th>\n",
       "      <td>JAYDEN DANIELS</td>\n",
       "      <td>Commanders</td>\n",
       "      <td>QB</td>\n",
       "      <td>17</td>\n",
       "      <td>355.82</td>\n",
       "      <td>20.930588</td>\n",
       "    </tr>\n",
       "    <tr>\n",
       "      <th>1</th>\n",
       "      <td>DERRICK HENRY</td>\n",
       "      <td>Ravens</td>\n",
       "      <td>RB</td>\n",
       "      <td>17</td>\n",
       "      <td>336.40</td>\n",
       "      <td>19.788235</td>\n",
       "    </tr>\n",
       "    <tr>\n",
       "      <th>2</th>\n",
       "      <td>JAMESON WILLIAMS</td>\n",
       "      <td>Lions</td>\n",
       "      <td>WR</td>\n",
       "      <td>15</td>\n",
       "      <td>212.20</td>\n",
       "      <td>14.146667</td>\n",
       "    </tr>\n",
       "    <tr>\n",
       "      <th>3</th>\n",
       "      <td>KYLE PITTS</td>\n",
       "      <td>Falcons</td>\n",
       "      <td>TE</td>\n",
       "      <td>17</td>\n",
       "      <td>131.20</td>\n",
       "      <td>7.717647</td>\n",
       "    </tr>\n",
       "    <tr>\n",
       "      <th>4</th>\n",
       "      <td>TONY POLLARD</td>\n",
       "      <td>Titans</td>\n",
       "      <td>RB</td>\n",
       "      <td>16</td>\n",
       "      <td>200.70</td>\n",
       "      <td>12.543750</td>\n",
       "    </tr>\n",
       "    <tr>\n",
       "      <th>5</th>\n",
       "      <td>TERRY MCLAURIN</td>\n",
       "      <td>Commanders</td>\n",
       "      <td>WR</td>\n",
       "      <td>17</td>\n",
       "      <td>267.80</td>\n",
       "      <td>15.752941</td>\n",
       "    </tr>\n",
       "    <tr>\n",
       "      <th>6</th>\n",
       "      <td>JAXON SMITH-NJIGBA</td>\n",
       "      <td>Seahawks</td>\n",
       "      <td>WR</td>\n",
       "      <td>17</td>\n",
       "      <td>253.00</td>\n",
       "      <td>14.882353</td>\n",
       "    </tr>\n",
       "    <tr>\n",
       "      <th>7</th>\n",
       "      <td>JUSTIN TUCKER</td>\n",
       "      <td>Ravens</td>\n",
       "      <td>K</td>\n",
       "      <td>17</td>\n",
       "      <td>135.00</td>\n",
       "      <td>7.941176</td>\n",
       "    </tr>\n",
       "  </tbody>\n",
       "</table>\n",
       "</div>"
      ],
      "text/plain": [
       "                 name current_team position  games_played  total_points  \\\n",
       "0      JAYDEN DANIELS   Commanders       QB            17        355.82   \n",
       "1       DERRICK HENRY       Ravens       RB            17        336.40   \n",
       "2    JAMESON WILLIAMS        Lions       WR            15        212.20   \n",
       "3          KYLE PITTS      Falcons       TE            17        131.20   \n",
       "4        TONY POLLARD       Titans       RB            16        200.70   \n",
       "5      TERRY MCLAURIN   Commanders       WR            17        267.80   \n",
       "6  JAXON SMITH-NJIGBA     Seahawks       WR            17        253.00   \n",
       "7       JUSTIN TUCKER       Ravens        K            17        135.00   \n",
       "\n",
       "   average_points  \n",
       "0       20.930588  \n",
       "1       19.788235  \n",
       "2       14.146667  \n",
       "3        7.717647  \n",
       "4       12.543750  \n",
       "5       15.752941  \n",
       "6       14.882353  \n",
       "7        7.941176  "
      ]
     },
     "execution_count": 153,
     "metadata": {},
     "output_type": "execute_result"
    }
   ],
   "source": [
    "Fantasy_df.drop(columns=['year_drafted'])"
   ]
  },
  {
   "cell_type": "code",
   "execution_count": 158,
   "id": "79c6df7a-a7a0-424f-a054-79bcd0b40a76",
   "metadata": {},
   "outputs": [
    {
     "data": {
      "text/html": [
       "<div>\n",
       "<style scoped>\n",
       "    .dataframe tbody tr th:only-of-type {\n",
       "        vertical-align: middle;\n",
       "    }\n",
       "\n",
       "    .dataframe tbody tr th {\n",
       "        vertical-align: top;\n",
       "    }\n",
       "\n",
       "    .dataframe thead th {\n",
       "        text-align: right;\n",
       "    }\n",
       "</style>\n",
       "<table border=\"1\" class=\"dataframe\">\n",
       "  <thead>\n",
       "    <tr style=\"text-align: right;\">\n",
       "      <th></th>\n",
       "      <th>N</th>\n",
       "      <th>K</th>\n",
       "      <th>I</th>\n",
       "      <th>P</th>\n",
       "      <th>H</th>\n",
       "    </tr>\n",
       "  </thead>\n",
       "  <tbody>\n",
       "    <tr>\n",
       "      <th>0</th>\n",
       "      <td>0.709149</td>\n",
       "      <td>0.300345</td>\n",
       "      <td>0.343219</td>\n",
       "      <td>0.190092</td>\n",
       "      <td>0.789484</td>\n",
       "    </tr>\n",
       "    <tr>\n",
       "      <th>1</th>\n",
       "      <td>0.229075</td>\n",
       "      <td>0.778727</td>\n",
       "      <td>0.874047</td>\n",
       "      <td>0.608809</td>\n",
       "      <td>0.042653</td>\n",
       "    </tr>\n",
       "    <tr>\n",
       "      <th>2</th>\n",
       "      <td>0.996940</td>\n",
       "      <td>0.551130</td>\n",
       "      <td>0.795138</td>\n",
       "      <td>0.704964</td>\n",
       "      <td>0.141228</td>\n",
       "    </tr>\n",
       "    <tr>\n",
       "      <th>3</th>\n",
       "      <td>0.889450</td>\n",
       "      <td>0.064028</td>\n",
       "      <td>0.908405</td>\n",
       "      <td>0.057277</td>\n",
       "      <td>0.290446</td>\n",
       "    </tr>\n",
       "    <tr>\n",
       "      <th>4</th>\n",
       "      <td>0.222008</td>\n",
       "      <td>0.197589</td>\n",
       "      <td>0.115185</td>\n",
       "      <td>0.406622</td>\n",
       "      <td>0.512772</td>\n",
       "    </tr>\n",
       "    <tr>\n",
       "      <th>5</th>\n",
       "      <td>0.890977</td>\n",
       "      <td>0.197303</td>\n",
       "      <td>0.991810</td>\n",
       "      <td>0.108702</td>\n",
       "      <td>0.503278</td>\n",
       "    </tr>\n",
       "    <tr>\n",
       "      <th>6</th>\n",
       "      <td>0.581993</td>\n",
       "      <td>0.792117</td>\n",
       "      <td>0.139258</td>\n",
       "      <td>0.218934</td>\n",
       "      <td>0.523432</td>\n",
       "    </tr>\n",
       "    <tr>\n",
       "      <th>7</th>\n",
       "      <td>0.808375</td>\n",
       "      <td>0.179858</td>\n",
       "      <td>0.542622</td>\n",
       "      <td>0.486124</td>\n",
       "      <td>0.841814</td>\n",
       "    </tr>\n",
       "    <tr>\n",
       "      <th>8</th>\n",
       "      <td>0.159241</td>\n",
       "      <td>0.452732</td>\n",
       "      <td>0.456246</td>\n",
       "      <td>0.136268</td>\n",
       "      <td>0.747602</td>\n",
       "    </tr>\n",
       "    <tr>\n",
       "      <th>9</th>\n",
       "      <td>0.584149</td>\n",
       "      <td>0.670053</td>\n",
       "      <td>0.604887</td>\n",
       "      <td>0.239435</td>\n",
       "      <td>0.393330</td>\n",
       "    </tr>\n",
       "    <tr>\n",
       "      <th>10</th>\n",
       "      <td>0.643491</td>\n",
       "      <td>0.788182</td>\n",
       "      <td>0.315690</td>\n",
       "      <td>0.274746</td>\n",
       "      <td>0.062782</td>\n",
       "    </tr>\n",
       "    <tr>\n",
       "      <th>11</th>\n",
       "      <td>0.805850</td>\n",
       "      <td>0.009076</td>\n",
       "      <td>0.487361</td>\n",
       "      <td>0.514122</td>\n",
       "      <td>0.315695</td>\n",
       "    </tr>\n",
       "    <tr>\n",
       "      <th>12</th>\n",
       "      <td>0.257514</td>\n",
       "      <td>0.204264</td>\n",
       "      <td>0.981781</td>\n",
       "      <td>0.959694</td>\n",
       "      <td>0.390954</td>\n",
       "    </tr>\n",
       "    <tr>\n",
       "      <th>13</th>\n",
       "      <td>0.097624</td>\n",
       "      <td>0.241639</td>\n",
       "      <td>0.971228</td>\n",
       "      <td>0.313289</td>\n",
       "      <td>0.145313</td>\n",
       "    </tr>\n",
       "    <tr>\n",
       "      <th>14</th>\n",
       "      <td>0.257577</td>\n",
       "      <td>0.417308</td>\n",
       "      <td>0.766852</td>\n",
       "      <td>0.787327</td>\n",
       "      <td>0.678060</td>\n",
       "    </tr>\n",
       "    <tr>\n",
       "      <th>15</th>\n",
       "      <td>0.222520</td>\n",
       "      <td>0.358592</td>\n",
       "      <td>0.796932</td>\n",
       "      <td>0.944619</td>\n",
       "      <td>0.441223</td>\n",
       "    </tr>\n",
       "    <tr>\n",
       "      <th>16</th>\n",
       "      <td>0.117066</td>\n",
       "      <td>0.159486</td>\n",
       "      <td>0.293129</td>\n",
       "      <td>0.982541</td>\n",
       "      <td>0.636905</td>\n",
       "    </tr>\n",
       "    <tr>\n",
       "      <th>17</th>\n",
       "      <td>0.195932</td>\n",
       "      <td>0.600829</td>\n",
       "      <td>0.876022</td>\n",
       "      <td>0.888063</td>\n",
       "      <td>0.020729</td>\n",
       "    </tr>\n",
       "    <tr>\n",
       "      <th>18</th>\n",
       "      <td>0.210260</td>\n",
       "      <td>0.937490</td>\n",
       "      <td>0.948500</td>\n",
       "      <td>0.935844</td>\n",
       "      <td>0.767313</td>\n",
       "    </tr>\n",
       "    <tr>\n",
       "      <th>19</th>\n",
       "      <td>0.575716</td>\n",
       "      <td>0.668878</td>\n",
       "      <td>0.245097</td>\n",
       "      <td>0.750112</td>\n",
       "      <td>0.280756</td>\n",
       "    </tr>\n",
       "  </tbody>\n",
       "</table>\n",
       "</div>"
      ],
      "text/plain": [
       "           N         K         I         P         H\n",
       "0   0.709149  0.300345  0.343219  0.190092  0.789484\n",
       "1   0.229075  0.778727  0.874047  0.608809  0.042653\n",
       "2   0.996940  0.551130  0.795138  0.704964  0.141228\n",
       "3   0.889450  0.064028  0.908405  0.057277  0.290446\n",
       "4   0.222008  0.197589  0.115185  0.406622  0.512772\n",
       "5   0.890977  0.197303  0.991810  0.108702  0.503278\n",
       "6   0.581993  0.792117  0.139258  0.218934  0.523432\n",
       "7   0.808375  0.179858  0.542622  0.486124  0.841814\n",
       "8   0.159241  0.452732  0.456246  0.136268  0.747602\n",
       "9   0.584149  0.670053  0.604887  0.239435  0.393330\n",
       "10  0.643491  0.788182  0.315690  0.274746  0.062782\n",
       "11  0.805850  0.009076  0.487361  0.514122  0.315695\n",
       "12  0.257514  0.204264  0.981781  0.959694  0.390954\n",
       "13  0.097624  0.241639  0.971228  0.313289  0.145313\n",
       "14  0.257577  0.417308  0.766852  0.787327  0.678060\n",
       "15  0.222520  0.358592  0.796932  0.944619  0.441223\n",
       "16  0.117066  0.159486  0.293129  0.982541  0.636905\n",
       "17  0.195932  0.600829  0.876022  0.888063  0.020729\n",
       "18  0.210260  0.937490  0.948500  0.935844  0.767313\n",
       "19  0.575716  0.668878  0.245097  0.750112  0.280756"
      ]
     },
     "execution_count": 158,
     "metadata": {},
     "output_type": "execute_result"
    }
   ],
   "source": [
    "Numbers = pd.DataFrame(np.random.rand(20,5), columns=list('NKIPH'))\n",
    "Numbers"
   ]
  },
  {
   "cell_type": "code",
   "execution_count": 168,
   "id": "eae086b1-fc97-44db-8eae-09be359cd694",
   "metadata": {},
   "outputs": [
    {
     "data": {
      "text/plain": [
       "0.4284813320222337"
      ]
     },
     "execution_count": 168,
     "metadata": {},
     "output_type": "execute_result"
    }
   ],
   "source": [
    "Numbers['K'].mean()"
   ]
  },
  {
   "cell_type": "code",
   "execution_count": 173,
   "id": "a57c898e-cdd1-459e-8ec4-e439ecb81dc2",
   "metadata": {},
   "outputs": [
    {
     "data": {
      "text/plain": [
       "0.4166468191349938"
      ]
     },
     "execution_count": 173,
     "metadata": {},
     "output_type": "execute_result"
    }
   ],
   "source": [
    "Numbers['N'].median()"
   ]
  },
  {
   "cell_type": "code",
   "execution_count": 180,
   "id": "935f8970-02b3-45bf-afff-1ec56978cb73",
   "metadata": {},
   "outputs": [
    {
     "data": {
      "text/plain": [
       "0.27731077170294055"
      ]
     },
     "execution_count": 180,
     "metadata": {},
     "output_type": "execute_result"
    }
   ],
   "source": [
    "Numbers['K'].std()"
   ]
  },
  {
   "cell_type": "code",
   "execution_count": 182,
   "id": "f421a8c2-4ce6-4bba-968d-faf38a398d49",
   "metadata": {},
   "outputs": [
    {
     "data": {
      "text/plain": [
       "0.09239195698691281"
      ]
     },
     "execution_count": 182,
     "metadata": {},
     "output_type": "execute_result"
    }
   ],
   "source": [
    "Numbers['N'].var()"
   ]
  },
  {
   "cell_type": "code",
   "execution_count": 184,
   "id": "e0f2850d-21e8-4a8a-bfa3-03878dd16039",
   "metadata": {},
   "outputs": [
    {
     "data": {
      "text/plain": [
       "0.9918099141987317"
      ]
     },
     "execution_count": 184,
     "metadata": {},
     "output_type": "execute_result"
    }
   ],
   "source": [
    "Numbers['I'].max()"
   ]
  },
  {
   "cell_type": "code",
   "execution_count": 188,
   "id": "8072c3d8-4a0e-4bbe-bb50-4cb81e58eb9e",
   "metadata": {},
   "outputs": [
    {
     "data": {
      "text/plain": [
       "0.11518454175327086"
      ]
     },
     "execution_count": 188,
     "metadata": {},
     "output_type": "execute_result"
    }
   ],
   "source": [
    "Numbers['I'].min()"
   ]
  },
  {
   "cell_type": "code",
   "execution_count": 201,
   "id": "33a49004-e2ee-4e83-8a94-438bd9cdc2f4",
   "metadata": {},
   "outputs": [
    {
     "name": "stdout",
     "output_type": "stream",
     "text": [
      "0.00907572602443607\n"
     ]
    }
   ],
   "source": [
    "print(Numbers.loc[11,'K'])"
   ]
  },
  {
   "cell_type": "code",
   "execution_count": 205,
   "id": "1430d0df-2b0e-43ac-bdf7-763daf2fe8e7",
   "metadata": {},
   "outputs": [
    {
     "name": "stdout",
     "output_type": "stream",
     "text": [
      "This number is an outlier because it is so much smaller than everyother number in the DataFrame\n"
     ]
    }
   ],
   "source": [
    "print('This number is an outlier because it is so much smaller than everyother number in the DataFrame')"
   ]
  },
  {
   "cell_type": "code",
   "execution_count": 207,
   "id": "990db5e8-d726-4bac-8157-c0af4000188a",
   "metadata": {},
   "outputs": [
    {
     "data": {
      "text/html": [
       "<div>\n",
       "<style scoped>\n",
       "    .dataframe tbody tr th:only-of-type {\n",
       "        vertical-align: middle;\n",
       "    }\n",
       "\n",
       "    .dataframe tbody tr th {\n",
       "        vertical-align: top;\n",
       "    }\n",
       "\n",
       "    .dataframe thead th {\n",
       "        text-align: right;\n",
       "    }\n",
       "</style>\n",
       "<table border=\"1\" class=\"dataframe\">\n",
       "  <thead>\n",
       "    <tr style=\"text-align: right;\">\n",
       "      <th></th>\n",
       "      <th>N</th>\n",
       "      <th>K</th>\n",
       "      <th>I</th>\n",
       "      <th>P</th>\n",
       "      <th>H</th>\n",
       "    </tr>\n",
       "  </thead>\n",
       "  <tbody>\n",
       "    <tr>\n",
       "      <th>count</th>\n",
       "      <td>20.000000</td>\n",
       "      <td>20.000000</td>\n",
       "      <td>20.000000</td>\n",
       "      <td>20.000000</td>\n",
       "      <td>20.000000</td>\n",
       "    </tr>\n",
       "    <tr>\n",
       "      <th>mean</th>\n",
       "      <td>0.472745</td>\n",
       "      <td>0.428481</td>\n",
       "      <td>0.622670</td>\n",
       "      <td>0.525379</td>\n",
       "      <td>0.426288</td>\n",
       "    </tr>\n",
       "    <tr>\n",
       "      <th>std</th>\n",
       "      <td>0.303960</td>\n",
       "      <td>0.277311</td>\n",
       "      <td>0.303510</td>\n",
       "      <td>0.323431</td>\n",
       "      <td>0.262891</td>\n",
       "    </tr>\n",
       "    <tr>\n",
       "      <th>min</th>\n",
       "      <td>0.097624</td>\n",
       "      <td>0.009076</td>\n",
       "      <td>0.115185</td>\n",
       "      <td>0.057277</td>\n",
       "      <td>0.020729</td>\n",
       "    </tr>\n",
       "    <tr>\n",
       "      <th>25%</th>\n",
       "      <td>0.219071</td>\n",
       "      <td>0.197517</td>\n",
       "      <td>0.336336</td>\n",
       "      <td>0.234309</td>\n",
       "      <td>0.246895</td>\n",
       "    </tr>\n",
       "    <tr>\n",
       "      <th>50%</th>\n",
       "      <td>0.416647</td>\n",
       "      <td>0.387950</td>\n",
       "      <td>0.685869</td>\n",
       "      <td>0.500123</td>\n",
       "      <td>0.417277</td>\n",
       "    </tr>\n",
       "    <tr>\n",
       "      <th>75%</th>\n",
       "      <td>0.733325</td>\n",
       "      <td>0.669172</td>\n",
       "      <td>0.884118</td>\n",
       "      <td>0.812511</td>\n",
       "      <td>0.647194</td>\n",
       "    </tr>\n",
       "    <tr>\n",
       "      <th>max</th>\n",
       "      <td>0.996940</td>\n",
       "      <td>0.937490</td>\n",
       "      <td>0.991810</td>\n",
       "      <td>0.982541</td>\n",
       "      <td>0.841814</td>\n",
       "    </tr>\n",
       "  </tbody>\n",
       "</table>\n",
       "</div>"
      ],
      "text/plain": [
       "               N          K          I          P          H\n",
       "count  20.000000  20.000000  20.000000  20.000000  20.000000\n",
       "mean    0.472745   0.428481   0.622670   0.525379   0.426288\n",
       "std     0.303960   0.277311   0.303510   0.323431   0.262891\n",
       "min     0.097624   0.009076   0.115185   0.057277   0.020729\n",
       "25%     0.219071   0.197517   0.336336   0.234309   0.246895\n",
       "50%     0.416647   0.387950   0.685869   0.500123   0.417277\n",
       "75%     0.733325   0.669172   0.884118   0.812511   0.647194\n",
       "max     0.996940   0.937490   0.991810   0.982541   0.841814"
      ]
     },
     "execution_count": 207,
     "metadata": {},
     "output_type": "execute_result"
    }
   ],
   "source": [
    "Numbers.describe()"
   ]
  },
  {
   "cell_type": "code",
   "execution_count": null,
   "id": "c8282c09-031e-4c94-9970-a45398b20f59",
   "metadata": {},
   "outputs": [],
   "source": []
  }
 ],
 "metadata": {
  "kernelspec": {
   "display_name": "Python [conda env:base] *",
   "language": "python",
   "name": "conda-base-py"
  },
  "language_info": {
   "codemirror_mode": {
    "name": "ipython",
    "version": 3
   },
   "file_extension": ".py",
   "mimetype": "text/x-python",
   "name": "python",
   "nbconvert_exporter": "python",
   "pygments_lexer": "ipython3",
   "version": "3.12.7"
  }
 },
 "nbformat": 4,
 "nbformat_minor": 5
}
